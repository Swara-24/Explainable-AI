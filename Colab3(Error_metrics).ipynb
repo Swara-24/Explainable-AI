{
  "nbformat": 4,
  "nbformat_minor": 0,
  "metadata": {
    "colab": {
      "name": "Colab3(Error metrics).ipynb",
      "provenance": [],
      "collapsed_sections": [],
      "include_colab_link": true
    },
    "kernelspec": {
      "name": "python3",
      "display_name": "Python 3"
    }
  },
  "cells": [
    {
      "cell_type": "markdown",
      "metadata": {
        "id": "view-in-github",
        "colab_type": "text"
      },
      "source": [
        "<a href=\"https://colab.research.google.com/github/Swara-24/Explainable-AI/blob/main/Colab3(Error_metrics).ipynb\" target=\"_parent\"><img src=\"https://colab.research.google.com/assets/colab-badge.svg\" alt=\"Open In Colab\"/></a>"
      ]
    },
    {
      "cell_type": "code",
      "metadata": {
        "id": "kQrJrTrpjhnD",
        "colab": {
          "base_uri": "https://localhost:8080/",
          "height": 70
        },
        "outputId": "104d8195-5d19-4596-ab04-88e322a26acc"
      },
      "source": [
        "import numpy as np\n",
        "import pandas as pd\n",
        "import matplotlib.pyplot as plt\n",
        "import seaborn as sns"
      ],
      "execution_count": null,
      "outputs": [
        {
          "output_type": "stream",
          "text": [
            "/usr/local/lib/python3.6/dist-packages/statsmodels/tools/_testing.py:19: FutureWarning: pandas.util.testing is deprecated. Use the functions in the public API at pandas.testing instead.\n",
            "  import pandas.util.testing as tm\n"
          ],
          "name": "stderr"
        }
      ]
    },
    {
      "cell_type": "code",
      "metadata": {
        "id": "oqzlR59EhXB6",
        "colab": {
          "base_uri": "https://localhost:8080/",
          "height": 212
        },
        "outputId": "5474d7a1-d21d-4c8a-854a-678d74f8ed9f"
      },
      "source": [
        "from google.colab import drive\n",
        "drive.mount('/drive')\n",
        "#loading data\n",
        "data = pd.read_csv('/drive/My Drive/Colab Notebooks/data_banknote_authentication.txt')\n",
        "data.head(5)"
      ],
      "execution_count": null,
      "outputs": [
        {
          "output_type": "stream",
          "text": [
            "Drive already mounted at /drive; to attempt to forcibly remount, call drive.mount(\"/drive\", force_remount=True).\n"
          ],
          "name": "stdout"
        },
        {
          "output_type": "execute_result",
          "data": {
            "text/html": [
              "<div>\n",
              "<style scoped>\n",
              "    .dataframe tbody tr th:only-of-type {\n",
              "        vertical-align: middle;\n",
              "    }\n",
              "\n",
              "    .dataframe tbody tr th {\n",
              "        vertical-align: top;\n",
              "    }\n",
              "\n",
              "    .dataframe thead th {\n",
              "        text-align: right;\n",
              "    }\n",
              "</style>\n",
              "<table border=\"1\" class=\"dataframe\">\n",
              "  <thead>\n",
              "    <tr style=\"text-align: right;\">\n",
              "      <th></th>\n",
              "      <th>Variance</th>\n",
              "      <th>Skewness</th>\n",
              "      <th>Kurtosis</th>\n",
              "      <th>Entropy</th>\n",
              "      <th>Class</th>\n",
              "    </tr>\n",
              "  </thead>\n",
              "  <tbody>\n",
              "    <tr>\n",
              "      <th>0</th>\n",
              "      <td>3.62160</td>\n",
              "      <td>8.6661</td>\n",
              "      <td>-2.8073</td>\n",
              "      <td>-0.44699</td>\n",
              "      <td>0</td>\n",
              "    </tr>\n",
              "    <tr>\n",
              "      <th>1</th>\n",
              "      <td>4.54590</td>\n",
              "      <td>8.1674</td>\n",
              "      <td>-2.4586</td>\n",
              "      <td>-1.46210</td>\n",
              "      <td>0</td>\n",
              "    </tr>\n",
              "    <tr>\n",
              "      <th>2</th>\n",
              "      <td>3.86600</td>\n",
              "      <td>-2.6383</td>\n",
              "      <td>1.9242</td>\n",
              "      <td>0.10645</td>\n",
              "      <td>0</td>\n",
              "    </tr>\n",
              "    <tr>\n",
              "      <th>3</th>\n",
              "      <td>3.45660</td>\n",
              "      <td>9.5228</td>\n",
              "      <td>-4.0112</td>\n",
              "      <td>-3.59440</td>\n",
              "      <td>0</td>\n",
              "    </tr>\n",
              "    <tr>\n",
              "      <th>4</th>\n",
              "      <td>0.32924</td>\n",
              "      <td>-4.4552</td>\n",
              "      <td>4.5718</td>\n",
              "      <td>-0.98880</td>\n",
              "      <td>0</td>\n",
              "    </tr>\n",
              "  </tbody>\n",
              "</table>\n",
              "</div>"
            ],
            "text/plain": [
              "   Variance  Skewness  Kurtosis  Entropy  Class\n",
              "0   3.62160    8.6661   -2.8073 -0.44699      0\n",
              "1   4.54590    8.1674   -2.4586 -1.46210      0\n",
              "2   3.86600   -2.6383    1.9242  0.10645      0\n",
              "3   3.45660    9.5228   -4.0112 -3.59440      0\n",
              "4   0.32924   -4.4552    4.5718 -0.98880      0"
            ]
          },
          "metadata": {
            "tags": []
          },
          "execution_count": 6
        }
      ]
    },
    {
      "cell_type": "markdown",
      "metadata": {
        "id": "Xi8RF-m413sm"
      },
      "source": [
        "Data Set Information:\n",
        "Data were extracted from images that were taken from genuine and forged banknote-like specimens. \n",
        "\n",
        "Attribute Information:\n",
        "1. variance of Wavelet Transformed image \n",
        "2. skewness of Wavelet Transformed image\n",
        "3. curtosis of Wavelet Transformed image \n",
        "4. entropy of image\n",
        "5. class (integer)"
      ]
    },
    {
      "cell_type": "code",
      "metadata": {
        "id": "M0XE_x9Fl2rh"
      },
      "source": [
        "#importing libraries\n",
        "from sklearn.model_selection import train_test_split\n",
        "from sklearn.tree import DecisionTreeClassifier\n",
        "from sklearn.metrics import roc_curve, roc_auc_score, confusion_matrix, mean_absolute_error, mean_squared_error"
      ],
      "execution_count": null,
      "outputs": []
    },
    {
      "cell_type": "code",
      "metadata": {
        "id": "KoHX7qq9jXS_"
      },
      "source": [
        "#function for plotting confusion_matrix\n",
        "def plot_confusion_matrix(predict_y,test_y):\n",
        "    C = confusion_matrix(test_y, predict_y)\n",
        "    labels = ['Authentic','Not Authentic']\n",
        "    plt.figure(figsize=(10,7))\n",
        "    sns.heatmap(C, annot=True, fmt=\".3f\", xticklabels=labels, yticklabels=labels)\n",
        "    plt.xlabel('Predicted Class')\n",
        "    plt.ylabel('Original Class')\n",
        "    plt.title(\"Confusion matrix\")\n",
        "    plt.show()"
      ],
      "execution_count": null,
      "outputs": []
    },
    {
      "cell_type": "code",
      "metadata": {
        "id": "apUoIAhOtWlj"
      },
      "source": [
        "#function for plotting roc curve\n",
        "def plot_roc_curve(fpr, tpr):\n",
        "    plt.plot(fpr, tpr, color='orange', label='ROC')\n",
        "    plt.plot([0, 1], [0, 1], color='darkblue', linestyle='--')\n",
        "    plt.xlabel('False Positive Rate')\n",
        "    plt.ylabel('True Positive Rate')\n",
        "    plt.title('Receiver Operating Characteristic (ROC) Curve')\n",
        "    plt.legend()\n",
        "    plt.show()"
      ],
      "execution_count": null,
      "outputs": []
    },
    {
      "cell_type": "code",
      "metadata": {
        "id": "DxYVEMiOmZw9"
      },
      "source": [
        "features=['Variance','Skewness','Kurtosis','Entropy']\n",
        "X=data[features]\n",
        "y=data.Class\n",
        "# Split into validation and training data\n",
        "train_X, val_X, train_y, val_y = train_test_split(X, y, random_state=1)"
      ],
      "execution_count": null,
      "outputs": []
    },
    {
      "cell_type": "code",
      "metadata": {
        "id": "F6mHq0fSnD2v",
        "colab": {
          "base_uri": "https://localhost:8080/",
          "height": 118
        },
        "outputId": "d4a56985-e3ab-4b9b-ceb3-f7d71293d05e"
      },
      "source": [
        "# Specify Model\n",
        "model = DecisionTreeClassifier(random_state=1)\n",
        "# Fit Model\n",
        "model.fit(train_X, train_y)"
      ],
      "execution_count": null,
      "outputs": [
        {
          "output_type": "execute_result",
          "data": {
            "text/plain": [
              "DecisionTreeClassifier(ccp_alpha=0.0, class_weight=None, criterion='gini',\n",
              "                       max_depth=None, max_features=None, max_leaf_nodes=None,\n",
              "                       min_impurity_decrease=0.0, min_impurity_split=None,\n",
              "                       min_samples_leaf=1, min_samples_split=2,\n",
              "                       min_weight_fraction_leaf=0.0, presort='deprecated',\n",
              "                       random_state=1, splitter='best')"
            ]
          },
          "metadata": {
            "tags": []
          },
          "execution_count": 95
        }
      ]
    },
    {
      "cell_type": "code",
      "metadata": {
        "id": "K9FzlJfKnVNy"
      },
      "source": [
        "# Make validation predictions\n",
        "val_predictions = model.predict(val_X)"
      ],
      "execution_count": null,
      "outputs": []
    },
    {
      "cell_type": "markdown",
      "metadata": {
        "id": "ECtrINrR2ebM"
      },
      "source": [
        "## ROC AUC SCORE"
      ]
    },
    {
      "cell_type": "code",
      "metadata": {
        "id": "FjPm3hyZvSJo",
        "colab": {
          "base_uri": "https://localhost:8080/",
          "height": 50
        },
        "outputId": "21e02b49-bdf0-43ce-a7c6-55c75b731578"
      },
      "source": [
        "#calculate roc auc score\n",
        "auc = roc_auc_score(val_y, val_predictions)\n",
        "print('AUC: ')\n",
        "print(auc)"
      ],
      "execution_count": null,
      "outputs": [
        {
          "output_type": "stream",
          "text": [
            "AUC: \n",
            "0.9922279792746114\n"
          ],
          "name": "stdout"
        }
      ]
    },
    {
      "cell_type": "markdown",
      "metadata": {
        "id": "XrwGpFT_270U"
      },
      "source": [
        "The higher the AUC score, the better is the performance.\n",
        "Here, it is 0.99 which means that the prediction is almost perfect."
      ]
    },
    {
      "cell_type": "markdown",
      "metadata": {
        "id": "xhVCfkDE2pCg"
      },
      "source": [
        "## ROC CURVE"
      ]
    },
    {
      "cell_type": "code",
      "metadata": {
        "id": "A95sNv1sfdKY"
      },
      "source": [
        "fpr, tpr, thresholds = roc_curve(val_y, val_predictions)"
      ],
      "execution_count": null,
      "outputs": []
    },
    {
      "cell_type": "code",
      "metadata": {
        "id": "AXJ7DZ4Cfh4c",
        "colab": {
          "base_uri": "https://localhost:8080/",
          "height": 295
        },
        "outputId": "d944a87d-a73e-4c48-d5db-9eeda13bbdc5"
      },
      "source": [
        "plot_roc_curve(fpr, tpr)"
      ],
      "execution_count": null,
      "outputs": [
        {
          "output_type": "display_data",
          "data": {
            "image/png": "[encoded data removed]",
            "text/plain": [
              "<Figure size 432x288 with 1 Axes>"
            ]
          },
          "metadata": {
            "tags": [],
            "needs_background": "light"
          }
        }
      ]
    },
    {
      "cell_type": "markdown",
      "metadata": {
        "id": "KXMDkzOS1MEb"
      },
      "source": [
        "The ROC curve shows the trade-off between sensitivity (or TPR) and specificity (1 – FPR).\n",
        "The above curve implies that the prediction is very accurate as there are very less values that are predicted incorrectly."
      ]
    },
    {
      "cell_type": "markdown",
      "metadata": {
        "id": "fOCw7uGD2sax"
      },
      "source": [
        "## CONFUSION MATRIX"
      ]
    },
    {
      "cell_type": "code",
      "metadata": {
        "id": "9tUBoTwOnjJq",
        "colab": {
          "base_uri": "https://localhost:8080/",
          "height": 458
        },
        "outputId": "7c576ee5-948d-4a1d-8295-949df37a7d94"
      },
      "source": [
        "plot_confusion_matrix(val_predictions,val_y)"
      ],
      "execution_count": null,
      "outputs": [
        {
          "output_type": "display_data",
          "data": {
            "image/png": "[encoded data removed]",
            "text/plain": [
              "<Figure size 720x504 with 2 Axes>"
            ]
          },
          "metadata": {
            "tags": [],
            "needs_background": "light"
          }
        }
      ]
    },
    {
      "cell_type": "markdown",
      "metadata": {
        "id": "umSMnYOh0R9W"
      },
      "source": [
        "The confusion matrix shows that:\n",
        "\n",
        "1. There are 190 values that are AUTHENTIC originally, and are predicted AUTHENTIC.\n",
        "2. There are 3 values that are AUTHENTIC actually, but are predicted NOT AUTHENTIC.\n",
        "3. There are no values that are NON AUTHENTIC which are predicted NON AUTHENTIC.\n",
        "4. There are 150 values which are NOT AUTHENTIC and are predicted NON AUTHENTIC."
      ]
    },
    {
      "cell_type": "markdown",
      "metadata": {
        "id": "SqJ6VrdU2wtg"
      },
      "source": [
        "## MEAN ABSOLUTE ERROR"
      ]
    },
    {
      "cell_type": "code",
      "metadata": {
        "id": "KNoFOLtqnzJJ",
        "colab": {
          "base_uri": "https://localhost:8080/",
          "height": 50
        },
        "outputId": "1ec48d62-cbba-4c7d-d0cd-719898d136be"
      },
      "source": [
        "val_mae = mean_absolute_error(val_predictions, val_y)\n",
        "print(\"Validation MAE: \")\n",
        "print(val_mae)"
      ],
      "execution_count": null,
      "outputs": [
        {
          "output_type": "stream",
          "text": [
            "Validation MAE: \n",
            "0.008746355685131196\n"
          ],
          "name": "stdout"
        }
      ]
    },
    {
      "cell_type": "markdown",
      "metadata": {
        "id": "Le3HwIQC2z0j"
      },
      "source": [
        "## ROOT MEAN SQUARE ERROR"
      ]
    },
    {
      "cell_type": "code",
      "metadata": {
        "id": "r49T4Ecdqjg8",
        "colab": {
          "base_uri": "https://localhost:8080/",
          "height": 50
        },
        "outputId": "0853715c-cc41-4427-c2f2-68f4fb4d40b8"
      },
      "source": [
        "val_rmse = mean_squared_error(val_predictions, val_y)\n",
        "print(\"Validation RMSE: \")\n",
        "print(val_rmse)"
      ],
      "execution_count": null,
      "outputs": [
        {
          "output_type": "stream",
          "text": [
            "Validation RMSE: \n",
            "0.008746355685131196\n"
          ],
          "name": "stdout"
        }
      ]
    }
  ]
}