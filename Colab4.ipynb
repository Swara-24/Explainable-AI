{
  "nbformat": 4,
  "nbformat_minor": 0,
  "metadata": {
    "colab": {
      "name": "Colab4.ipynb",
      "provenance": [],
      "collapsed_sections": [],
      "include_colab_link": true
    },
    "kernelspec": {
      "name": "python3",
      "display_name": "Python 3"
    }
  },
  "cells": [
    {
      "cell_type": "markdown",
      "metadata": {
        "id": "view-in-github",
        "colab_type": "text"
      },
      "source": [
        "<a href=\"https://colab.research.google.com/github/Swara-24/Explainable-AI/blob/main/Colab4.ipynb\" target=\"_parent\"><img src=\"https://colab.research.google.com/assets/colab-badge.svg\" alt=\"Open In Colab\"/></a>"
      ]
    },
    {
      "cell_type": "code",
      "metadata": {
        "id": "qwNXTTBAJRm-"
      },
      "source": [
        "import numpy as np\n",
        "import pandas as pd\n",
        "import matplotlib.pyplot as plt\n",
        "from sklearn.model_selection import train_test_split\n",
        "from sklearn.linear_model import LinearRegression\n",
        "from sklearn.tree import DecisionTreeClassifier"
      ],
      "execution_count": null,
      "outputs": []
    },
    {
      "cell_type": "code",
      "metadata": {
        "id": "wDqCKc9ZvbdO"
      },
      "source": [
        "from sklearn.datasets import load_boston\n",
        "from sklearn import datasets"
      ],
      "execution_count": null,
      "outputs": []
    },
    {
      "cell_type": "code",
      "metadata": {
        "id": "8WtTIo8sPRmy",
        "colab": {
          "base_uri": "https://localhost:8080/",
          "height": 195
        },
        "outputId": "3279f77b-337c-45b2-c4d7-b506f4ccb697"
      },
      "source": [
        "data=datasets.load_boston()\n",
        "datafr=pd.DataFrame(data['data'])\n",
        "datafr.head()"
      ],
      "execution_count": null,
      "outputs": [
        {
          "output_type": "execute_result",
          "data": {
            "text/html": [
              "<div>\n",
              "<style scoped>\n",
              "    .dataframe tbody tr th:only-of-type {\n",
              "        vertical-align: middle;\n",
              "    }\n",
              "\n",
              "    .dataframe tbody tr th {\n",
              "        vertical-align: top;\n",
              "    }\n",
              "\n",
              "    .dataframe thead th {\n",
              "        text-align: right;\n",
              "    }\n",
              "</style>\n",
              "<table border=\"1\" class=\"dataframe\">\n",
              "  <thead>\n",
              "    <tr style=\"text-align: right;\">\n",
              "      <th></th>\n",
              "      <th>0</th>\n",
              "      <th>1</th>\n",
              "      <th>2</th>\n",
              "      <th>3</th>\n",
              "      <th>4</th>\n",
              "      <th>5</th>\n",
              "      <th>6</th>\n",
              "      <th>7</th>\n",
              "      <th>8</th>\n",
              "      <th>9</th>\n",
              "      <th>10</th>\n",
              "      <th>11</th>\n",
              "      <th>12</th>\n",
              "    </tr>\n",
              "  </thead>\n",
              "  <tbody>\n",
              "    <tr>\n",
              "      <th>0</th>\n",
              "      <td>0.00632</td>\n",
              "      <td>18.0</td>\n",
              "      <td>2.31</td>\n",
              "      <td>0.0</td>\n",
              "      <td>0.538</td>\n",
              "      <td>6.575</td>\n",
              "      <td>65.2</td>\n",
              "      <td>4.0900</td>\n",
              "      <td>1.0</td>\n",
              "      <td>296.0</td>\n",
              "      <td>15.3</td>\n",
              "      <td>396.90</td>\n",
              "      <td>4.98</td>\n",
              "    </tr>\n",
              "    <tr>\n",
              "      <th>1</th>\n",
              "      <td>0.02731</td>\n",
              "      <td>0.0</td>\n",
              "      <td>7.07</td>\n",
              "      <td>0.0</td>\n",
              "      <td>0.469</td>\n",
              "      <td>6.421</td>\n",
              "      <td>78.9</td>\n",
              "      <td>4.9671</td>\n",
              "      <td>2.0</td>\n",
              "      <td>242.0</td>\n",
              "      <td>17.8</td>\n",
              "      <td>396.90</td>\n",
              "      <td>9.14</td>\n",
              "    </tr>\n",
              "    <tr>\n",
              "      <th>2</th>\n",
              "      <td>0.02729</td>\n",
              "      <td>0.0</td>\n",
              "      <td>7.07</td>\n",
              "      <td>0.0</td>\n",
              "      <td>0.469</td>\n",
              "      <td>7.185</td>\n",
              "      <td>61.1</td>\n",
              "      <td>4.9671</td>\n",
              "      <td>2.0</td>\n",
              "      <td>242.0</td>\n",
              "      <td>17.8</td>\n",
              "      <td>392.83</td>\n",
              "      <td>4.03</td>\n",
              "    </tr>\n",
              "    <tr>\n",
              "      <th>3</th>\n",
              "      <td>0.03237</td>\n",
              "      <td>0.0</td>\n",
              "      <td>2.18</td>\n",
              "      <td>0.0</td>\n",
              "      <td>0.458</td>\n",
              "      <td>6.998</td>\n",
              "      <td>45.8</td>\n",
              "      <td>6.0622</td>\n",
              "      <td>3.0</td>\n",
              "      <td>222.0</td>\n",
              "      <td>18.7</td>\n",
              "      <td>394.63</td>\n",
              "      <td>2.94</td>\n",
              "    </tr>\n",
              "    <tr>\n",
              "      <th>4</th>\n",
              "      <td>0.06905</td>\n",
              "      <td>0.0</td>\n",
              "      <td>2.18</td>\n",
              "      <td>0.0</td>\n",
              "      <td>0.458</td>\n",
              "      <td>7.147</td>\n",
              "      <td>54.2</td>\n",
              "      <td>6.0622</td>\n",
              "      <td>3.0</td>\n",
              "      <td>222.0</td>\n",
              "      <td>18.7</td>\n",
              "      <td>396.90</td>\n",
              "      <td>5.33</td>\n",
              "    </tr>\n",
              "  </tbody>\n",
              "</table>\n",
              "</div>"
            ],
            "text/plain": [
              "        0     1     2    3      4   ...   8      9     10      11    12\n",
              "0  0.00632  18.0  2.31  0.0  0.538  ...  1.0  296.0  15.3  396.90  4.98\n",
              "1  0.02731   0.0  7.07  0.0  0.469  ...  2.0  242.0  17.8  396.90  9.14\n",
              "2  0.02729   0.0  7.07  0.0  0.469  ...  2.0  242.0  17.8  392.83  4.03\n",
              "3  0.03237   0.0  2.18  0.0  0.458  ...  3.0  222.0  18.7  394.63  2.94\n",
              "4  0.06905   0.0  2.18  0.0  0.458  ...  3.0  222.0  18.7  396.90  5.33\n",
              "\n",
              "[5 rows x 13 columns]"
            ]
          },
          "metadata": {
            "tags": []
          },
          "execution_count": 3
        }
      ]
    },
    {
      "cell_type": "code",
      "metadata": {
        "id": "Wob4cd_zO3Y8"
      },
      "source": [
        "X=data.data\n",
        "y=data.target\n",
        "# Split into validation and training data\n",
        "train_X, val_X, train_y, val_y = train_test_split(X, y, random_state=1)"
      ],
      "execution_count": null,
      "outputs": []
    },
    {
      "cell_type": "markdown",
      "metadata": {
        "id": "fZAqDQuRJOQi"
      },
      "source": [
        "## LINEAR REGRESSION"
      ]
    },
    {
      "cell_type": "code",
      "metadata": {
        "id": "il3NRgVRLwrz"
      },
      "source": [
        "model1=LinearRegression()"
      ],
      "execution_count": null,
      "outputs": []
    },
    {
      "cell_type": "code",
      "metadata": {
        "id": "rmav8tVjPf2M",
        "colab": {
          "base_uri": "https://localhost:8080/",
          "height": 34
        },
        "outputId": "7d81f122-f38c-4a4c-abe4-6e5c9b586124"
      },
      "source": [
        "model1.fit(train_X,train_y)"
      ],
      "execution_count": null,
      "outputs": [
        {
          "output_type": "execute_result",
          "data": {
            "text/plain": [
              "LinearRegression(copy_X=True, fit_intercept=True, n_jobs=None, normalize=False)"
            ]
          },
          "metadata": {
            "tags": []
          },
          "execution_count": 6
        }
      ]
    },
    {
      "cell_type": "code",
      "metadata": {
        "id": "pKaAu6X7PuAj",
        "colab": {
          "base_uri": "https://localhost:8080/",
          "height": 454
        },
        "outputId": "a5bb07c0-7231-46e2-bf38-7dfb6297b5a3"
      },
      "source": [
        "val_predictions1 = model1.predict(val_X)\n",
        "val_predictions1"
      ],
      "execution_count": null,
      "outputs": [
        {
          "output_type": "execute_result",
          "data": {
            "text/plain": [
              "array([32.37816533, 27.95684437, 18.07213891, 21.63166556, 18.93029508,\n",
              "       19.96277202, 32.2834674 , 18.06715668, 24.72989076, 26.85359369,\n",
              "       27.23326816, 28.57021239, 21.18778302, 26.94393815, 23.37892579,\n",
              "       20.89176865, 17.11746934, 37.73997945, 30.51980066,  8.44489436,\n",
              "       20.86557977, 16.21989418, 25.13605925, 24.77658813, 31.40497629,\n",
              "       11.02741407, 13.82097563, 16.80208261, 35.94637198, 14.7155729 ,\n",
              "       21.23939821, 14.15079469, 42.72492585, 17.83887162, 21.84610225,\n",
              "       20.40178099, 17.50287927, 27.00093206,  9.80760408, 20.00288662,\n",
              "       24.27066782, 21.06719021, 29.47089776, 16.48482565, 19.38852695,\n",
              "       14.54778282, 39.39838319, 18.09810655, 26.22164983, 20.60676525,\n",
              "       25.09994066, 24.48366723, 25.02297948, 26.84986898,  5.01517985,\n",
              "       24.12809513, 10.72843392, 26.83178157, 16.8023533 , 35.48142073,\n",
              "       19.50937911, 27.43260347, 16.58016763, 19.151488  , 10.9990262 ,\n",
              "       32.05016535, 36.32672849, 21.8596379 , 24.8158357 , 25.32934192,\n",
              "       23.36795453,  6.98356201, 16.83774771, 20.27043864, 20.74890857,\n",
              "       21.85918305, 34.17775836, 27.94673486, 24.86029952, 34.43415796,\n",
              "       18.61651831, 24.02302532, 34.45439496, 13.32264718, 20.7154011 ,\n",
              "       30.1583435 , 17.06611728, 24.20119805, 19.18051951, 16.98160423,\n",
              "       26.8073424 , 41.02666829, 14.44767989, 23.26993252, 14.93803206,\n",
              "       21.93017824, 22.81878103, 29.16467031, 36.7033389 , 20.41387117,\n",
              "       17.86800518, 17.49942601, 25.07246443, 21.9827349 ,  8.28652561,\n",
              "       21.52177032, 16.50788716, 33.00114509, 24.49693379, 25.08491201,\n",
              "       38.29621948, 28.93273167, 14.85478187, 34.7429184 , 35.50029467,\n",
              "       32.89599805, 20.98069467, 16.67849644, 34.24728954, 39.01179205,\n",
              "       21.57169864, 15.71337489, 27.33121768, 18.73350137, 27.27438226,\n",
              "       21.16402252, 26.00459084])"
            ]
          },
          "metadata": {
            "tags": []
          },
          "execution_count": 7
        }
      ]
    },
    {
      "cell_type": "code",
      "metadata": {
        "id": "MHZFSsKRYQdD"
      },
      "source": [
        "from sklearn.metrics import mean_absolute_error"
      ],
      "execution_count": null,
      "outputs": []
    },
    {
      "cell_type": "code",
      "metadata": {
        "id": "W9vvAqFKYiVH",
        "colab": {
          "base_uri": "https://localhost:8080/",
          "height": 50
        },
        "outputId": "55854120-cb59-42c3-fb25-936ea0e3a343"
      },
      "source": [
        "print(\"Mean absolute error: \")\n",
        "print(mean_absolute_error(val_y, val_predictions1))"
      ],
      "execution_count": null,
      "outputs": [
        {
          "output_type": "stream",
          "text": [
            "Mean absolute error: \n",
            "3.574868126127545\n"
          ],
          "name": "stdout"
        }
      ]
    },
    {
      "cell_type": "code",
      "metadata": {
        "id": "JC1HgS9QXpBM",
        "colab": {
          "base_uri": "https://localhost:8080/",
          "height": 134
        },
        "outputId": "7e14b10f-8040-4131-fb96-38251c149a94"
      },
      "source": [
        "print(\"Coefficients\") \n",
        "print(model1.coef_)\n",
        "print(\"Intercept\") \n",
        "print(\"%2f\"%model1.intercept_)"
      ],
      "execution_count": null,
      "outputs": [
        {
          "output_type": "stream",
          "text": [
            "Coefficients\n",
            "[-1.14428903e-01  5.71299780e-02  3.83002824e-02  2.42854641e+00\n",
            " -2.12326236e+01  2.87723416e+00  6.91118094e-03 -1.47158266e+00\n",
            "  3.05784197e-01 -1.06750361e-02 -9.96138270e-01  6.27746234e-03\n",
            " -5.57414427e-01]\n",
            "Intercept\n",
            "45.192515\n"
          ],
          "name": "stdout"
        }
      ]
    },
    {
      "cell_type": "markdown",
      "metadata": {
        "id": "3CYoyMBOuGTG"
      },
      "source": [
        "INTERPRETATION -\n",
        "In linear regression,\n",
        "\n",
        "The hypothesis function h(theta)=\n",
        "theta_0 + theta_1 * x1 + theta_2 * x2 +...\n",
        "where theta 1 , theta 2 are coefficients and x1,x2 are features.\n",
        "\n",
        "Here, h = 45.192515 -1.14428903e-01 x1 + 5.71299780e-02 x2 +  3.83002824e-02  x3 + 2.42854641e+00 x4 -2.12326236e+01 x5 +  2.87723416e+00 x6 +  6.91118094e-03 x7 -1.47158266e+00 x8 +  3.05784197e-01 x9 -1.06750361e-02 x10 -9.96138270e-01 x11 + 6.27746234e-03 x12 -5.57414427e-01 x13\n",
        "\n",
        "The above function will fit the data given (not perfectly since mean absolute error of 3.57 is involved)."
      ]
    },
    {
      "cell_type": "markdown",
      "metadata": {
        "id": "3KvAn6pAZ7ai"
      },
      "source": [
        "## DECISION TREE"
      ]
    },
    {
      "cell_type": "code",
      "metadata": {
        "id": "N8fQaaK_h-zg"
      },
      "source": [
        "from sklearn.datasets import load_wine"
      ],
      "execution_count": null,
      "outputs": []
    },
    {
      "cell_type": "code",
      "metadata": {
        "id": "o3LzIRUSiHFF"
      },
      "source": [
        "data_wine=datasets.load_wine()\n",
        "X=data_wine.data\n",
        "y=data_wine.target\n",
        "# Split into validation and training data\n",
        "train_X, val_X, train_y, val_y = train_test_split(X, y, random_state=1)"
      ],
      "execution_count": null,
      "outputs": []
    },
    {
      "cell_type": "code",
      "metadata": {
        "id": "UUxa05bzPz9D"
      },
      "source": [
        "# Specify Model\n",
        "model2 = DecisionTreeClassifier(random_state=1)\n",
        "# Fit Model\n",
        "fit=model2.fit(train_X, train_y)"
      ],
      "execution_count": null,
      "outputs": []
    },
    {
      "cell_type": "code",
      "metadata": {
        "id": "PgfEmoRcRxtt"
      },
      "source": [
        "val_predictions2 = model2.predict(val_X)"
      ],
      "execution_count": null,
      "outputs": []
    },
    {
      "cell_type": "code",
      "metadata": {
        "id": "ddxZNrjISKE0",
        "colab": {
          "base_uri": "https://localhost:8080/",
          "height": 50
        },
        "outputId": "14165704-129b-4e95-f137-cccd8c3a81be"
      },
      "source": [
        "print(\"Mean absolute error: \")\n",
        "print(mean_absolute_error(val_y, val_predictions2))"
      ],
      "execution_count": null,
      "outputs": [
        {
          "output_type": "stream",
          "text": [
            "Mean absolute error: \n",
            "0.044444444444444446\n"
          ],
          "name": "stdout"
        }
      ]
    },
    {
      "cell_type": "markdown",
      "metadata": {
        "id": "bmBHdnGdc444"
      },
      "source": [
        "We have checked error to find the accuracy and it is found to be almost 0."
      ]
    },
    {
      "cell_type": "code",
      "metadata": {
        "id": "NBodRWrlkdBZ",
        "colab": {
          "base_uri": "https://localhost:8080/",
          "height": 617
        },
        "outputId": "d8724ee2-4402-47ed-b873-d2b8b3378f69"
      },
      "source": [
        "from sklearn import tree\n",
        "fig, ax = plt.subplots(figsize=(25, 10))\n",
        "tree.plot_tree(fit,fontsize=10,filled=True,feature_names=data_wine.feature_names, class_names=data_wine.target_names)\n",
        "plt.title(\"Decision Tree\",size=25)"
      ],
      "execution_count": null,
      "outputs": [
        {
          "output_type": "execute_result",
          "data": {
            "text/plain": [
              "Text(0.5, 1.0, 'Decision Tree')"
            ]
          },
          "metadata": {
            "tags": []
          },
          "execution_count": 16
        },
        {
          "output_type": "display_data",
          "data": {
            "image/png": "[encoded data removed]",
            "text/plain": [
              "<Figure size 1800x720 with 1 Axes>"
            ]
          },
          "metadata": {
            "tags": [],
            "needs_background": "light"
          }
        }
      ]
    },
    {
      "cell_type": "markdown",
      "metadata": {
        "id": "Ydr3nxaYmgNX"
      },
      "source": [
        "INTERPRETATION -\n",
        "\n",
        "The colour codes are for 3 classes - 0,1,and 2.\n",
        "\n",
        "The tree is divided by minimising the gini impurity everytime. Gini impurity is a measure of variables that are classified incorrectly. For example, at the root node, colour intensity<=3.46 given the minimum gini(0.658) among all the splits. Once it becomes 0,the group is perfectly homogeneous and there is no further classification(the leaf nodes).\n",
        "\n",
        "When we need to predict the class, we will check the constraint on every node down the tree to the left and right child till we reach the gini impurity 0 ie leaf node."
      ]
    },
    {
      "cell_type": "markdown",
      "metadata": {
        "id": "jcOUpu1dYPJq"
      },
      "source": [
        "## Neural Networks"
      ]
    },
    {
      "cell_type": "markdown",
      "metadata": {
        "id": "hC5VyK6Ka7Lt"
      },
      "source": [
        "We are using Keras in the sequential API to define a Neural network that will be train this data with an input dimension = no. of inputs in data .We will then have a layer of 16, then 8, then 6, and finally 1(last layer is a vector). The final layer will be activated by a sigmoid function(to get the probabilities of classification) which will push it towards a 1 or a 0. This Neural Network can then be used to predict future values. "
      ]
    },
    {
      "cell_type": "code",
      "metadata": {
        "id": "SVh-r_OGU9kG",
        "colab": {
          "base_uri": "https://localhost:8080/",
          "height": 34
        },
        "outputId": "c0805b6e-1cb0-419f-e14b-ed407665eade"
      },
      "source": [
        "from keras.models import Sequential\n",
        "from keras.layers import Dense\n",
        "from sklearn.datasets import load_breast_cancer\n",
        "data_cancer=load_breast_cancer()\n",
        "X=data_cancer.data\n",
        "y=data_cancer.target\n",
        "# Split into validation and training data\n",
        "train_X, val_X, train_y, val_y = train_test_split(X, y, random_state=1)\n",
        "\n",
        "model = Sequential() \n",
        "model.add(Dense(16, activation ='relu', input_dim=30))\n",
        "#Here, the input layer would expect a one-dimensional array with 30 elements for input. It would produce 16 outputs in return.\n",
        "model.add(Dense(8, activation = 'relu'))\n",
        "model.add(Dense(6, activation = 'relu'))\n",
        "model.add(Dense(1, activation = 'sigmoid'))"
      ],
      "execution_count": null,
      "outputs": [
        {
          "output_type": "stream",
          "text": [
            "Using TensorFlow backend.\n"
          ],
          "name": "stderr"
        }
      ]
    },
    {
      "cell_type": "markdown",
      "metadata": {
        "id": "eqoQlYQgbWQb"
      },
      "source": [
        "Here, we have to specify the optimizer and loss function. On each iteration, it measures how well it did in training using the loss function. It then tries to improve on that using the optimizer."
      ]
    },
    {
      "cell_type": "code",
      "metadata": {
        "id": "IQZuBGGbVCBR"
      },
      "source": [
        "model.compile(optimizer = 'rmsprop', loss = 'binary_crossentropy')"
      ],
      "execution_count": null,
      "outputs": []
    },
    {
      "cell_type": "code",
      "metadata": {
        "id": "7OEHI0LfGXjv"
      },
      "source": [
        "#print(data_cancer.feature_names)"
      ],
      "execution_count": null,
      "outputs": []
    },
    {
      "cell_type": "markdown",
      "metadata": {
        "id": "wB2UWgQxbgBe"
      },
      "source": [
        "We fit the data using fit, passing it the training data -- i.e. for this set of X, this is what the Y should look like. The training itself takes a Fit function. Here in the training we pass x's and y's, and specify how many times it will loop, where a loop is it making a guess at the relationship between the x and the y.It measures how well or how bad it does using the loss function, and then it improves on its guess using the optimizer. \n",
        "\n",
        "The NN will then spot the patterns in the data, and build a neural network that could replicate that. "
      ]
    },
    {
      "cell_type": "code",
      "metadata": {
        "id": "OmzvG0UOVG-e",
        "colab": {
          "base_uri": "https://localhost:8080/",
          "height": 1000
        },
        "outputId": "6240fccd-a80a-4148-f671-3230fe10f559"
      },
      "source": [
        "model.fit(train_X, train_y, batch_size = 1, epochs = 100)"
      ],
      "execution_count": null,
      "outputs": [
        {
          "output_type": "stream",
          "text": [
            "Epoch 1/100\n",
            "426/426 [==============================] - 1s 1ms/step - loss: 1.3079\n",
            "Epoch 2/100\n",
            "426/426 [==============================] - 0s 1ms/step - loss: 0.3301\n",
            "Epoch 3/100\n",
            "426/426 [==============================] - 0s 1ms/step - loss: 0.2975\n",
            "Epoch 4/100\n",
            "426/426 [==============================] - 0s 986us/step - loss: 0.2987\n",
            "Epoch 5/100\n",
            "426/426 [==============================] - 0s 1ms/step - loss: 0.2921\n",
            "Epoch 6/100\n",
            "426/426 [==============================] - 1s 1ms/step - loss: 0.2761\n",
            "Epoch 7/100\n",
            "426/426 [==============================] - 0s 1ms/step - loss: 0.2726\n",
            "Epoch 8/100\n",
            "426/426 [==============================] - 0s 995us/step - loss: 0.2908\n",
            "Epoch 9/100\n",
            "426/426 [==============================] - 0s 1ms/step - loss: 0.3125\n",
            "Epoch 10/100\n",
            "426/426 [==============================] - 0s 1ms/step - loss: 0.3144\n",
            "Epoch 11/100\n",
            "426/426 [==============================] - 0s 1ms/step - loss: 0.2929\n",
            "Epoch 12/100\n",
            "426/426 [==============================] - 0s 1ms/step - loss: 0.2843\n",
            "Epoch 13/100\n",
            "426/426 [==============================] - 0s 1ms/step - loss: 0.3040\n",
            "Epoch 14/100\n",
            "426/426 [==============================] - 0s 1ms/step - loss: 0.2901\n",
            "Epoch 15/100\n",
            "426/426 [==============================] - 0s 994us/step - loss: 0.2968\n",
            "Epoch 16/100\n",
            "426/426 [==============================] - 0s 1ms/step - loss: 0.2960\n",
            "Epoch 17/100\n",
            "426/426 [==============================] - 1s 1ms/step - loss: 0.2765\n",
            "Epoch 18/100\n",
            "426/426 [==============================] - 0s 1ms/step - loss: 0.2716\n",
            "Epoch 19/100\n",
            "426/426 [==============================] - 0s 1ms/step - loss: 0.2784\n",
            "Epoch 20/100\n",
            "426/426 [==============================] - 0s 1ms/step - loss: 0.2891\n",
            "Epoch 21/100\n",
            "426/426 [==============================] - 0s 1ms/step - loss: 0.2619\n",
            "Epoch 22/100\n",
            "426/426 [==============================] - 0s 1ms/step - loss: 0.2836\n",
            "Epoch 23/100\n",
            "426/426 [==============================] - 0s 1ms/step - loss: 0.2528\n",
            "Epoch 24/100\n",
            "426/426 [==============================] - 0s 992us/step - loss: 0.3045\n",
            "Epoch 25/100\n",
            "426/426 [==============================] - 0s 1ms/step - loss: 0.2819\n",
            "Epoch 26/100\n",
            "426/426 [==============================] - 0s 1ms/step - loss: 0.2715\n",
            "Epoch 27/100\n",
            "426/426 [==============================] - 0s 1ms/step - loss: 0.2405\n",
            "Epoch 28/100\n",
            "426/426 [==============================] - 0s 996us/step - loss: 0.2685\n",
            "Epoch 29/100\n",
            "426/426 [==============================] - 0s 1ms/step - loss: 0.2606\n",
            "Epoch 30/100\n",
            "426/426 [==============================] - 0s 1ms/step - loss: 0.2947\n",
            "Epoch 31/100\n",
            "426/426 [==============================] - 0s 1ms/step - loss: 0.3013\n",
            "Epoch 32/100\n",
            "426/426 [==============================] - 0s 1ms/step - loss: 0.2706\n",
            "Epoch 33/100\n",
            "426/426 [==============================] - 0s 1ms/step - loss: 0.2753\n",
            "Epoch 34/100\n",
            "426/426 [==============================] - 0s 1ms/step - loss: 0.2896\n",
            "Epoch 35/100\n",
            "426/426 [==============================] - 0s 1ms/step - loss: 0.2927\n",
            "Epoch 36/100\n",
            "426/426 [==============================] - 0s 1ms/step - loss: 0.2791\n",
            "Epoch 37/100\n",
            "426/426 [==============================] - 0s 1ms/step - loss: 0.2755\n",
            "Epoch 38/100\n",
            "426/426 [==============================] - 0s 1ms/step - loss: 0.2768\n",
            "Epoch 39/100\n",
            "426/426 [==============================] - 0s 1ms/step - loss: 0.2937\n",
            "Epoch 40/100\n",
            "426/426 [==============================] - 0s 1ms/step - loss: 0.3226\n",
            "Epoch 41/100\n",
            "426/426 [==============================] - 0s 1ms/step - loss: 0.2685\n",
            "Epoch 42/100\n",
            "426/426 [==============================] - 0s 1ms/step - loss: 0.3029\n",
            "Epoch 43/100\n",
            "426/426 [==============================] - 0s 1ms/step - loss: 0.2768\n",
            "Epoch 44/100\n",
            "426/426 [==============================] - 0s 1ms/step - loss: 0.3281\n",
            "Epoch 45/100\n",
            "426/426 [==============================] - 0s 1ms/step - loss: 0.2967\n",
            "Epoch 46/100\n",
            "426/426 [==============================] - 0s 1ms/step - loss: 0.2629\n",
            "Epoch 47/100\n",
            "426/426 [==============================] - 0s 1ms/step - loss: 0.2811\n",
            "Epoch 48/100\n",
            "426/426 [==============================] - 0s 1ms/step - loss: 0.3249\n",
            "Epoch 49/100\n",
            "426/426 [==============================] - 0s 1ms/step - loss: 0.3037\n",
            "Epoch 50/100\n",
            "426/426 [==============================] - 0s 1ms/step - loss: 0.3098\n",
            "Epoch 51/100\n",
            "426/426 [==============================] - 0s 1ms/step - loss: 0.2914\n",
            "Epoch 52/100\n",
            "426/426 [==============================] - 0s 1ms/step - loss: 0.3328\n",
            "Epoch 53/100\n",
            "426/426 [==============================] - 1s 1ms/step - loss: 0.2932\n",
            "Epoch 54/100\n",
            "426/426 [==============================] - 1s 1ms/step - loss: 0.3351\n",
            "Epoch 55/100\n",
            "426/426 [==============================] - 0s 1ms/step - loss: 0.3028\n",
            "Epoch 56/100\n",
            "426/426 [==============================] - 0s 1ms/step - loss: 0.3077\n",
            "Epoch 57/100\n",
            "426/426 [==============================] - 0s 1ms/step - loss: 0.2885\n",
            "Epoch 58/100\n",
            "426/426 [==============================] - 0s 1ms/step - loss: 0.2774\n",
            "Epoch 59/100\n",
            "426/426 [==============================] - 0s 1ms/step - loss: 0.2955\n",
            "Epoch 60/100\n",
            "426/426 [==============================] - 1s 1ms/step - loss: 0.2898\n",
            "Epoch 61/100\n",
            "426/426 [==============================] - 0s 1ms/step - loss: 0.3027\n",
            "Epoch 62/100\n",
            "426/426 [==============================] - 0s 1ms/step - loss: 0.2892\n",
            "Epoch 63/100\n",
            "426/426 [==============================] - 0s 1ms/step - loss: 0.2859\n",
            "Epoch 64/100\n",
            "426/426 [==============================] - 0s 1ms/step - loss: 0.2914\n",
            "Epoch 65/100\n",
            "426/426 [==============================] - 0s 1ms/step - loss: 0.2905\n",
            "Epoch 66/100\n",
            "426/426 [==============================] - 0s 1ms/step - loss: 0.2896\n",
            "Epoch 67/100\n",
            "426/426 [==============================] - 0s 1ms/step - loss: 0.3480\n",
            "Epoch 68/100\n",
            "426/426 [==============================] - 0s 1ms/step - loss: 0.2655\n",
            "Epoch 69/100\n",
            "426/426 [==============================] - 0s 1ms/step - loss: 0.2596\n",
            "Epoch 70/100\n",
            "426/426 [==============================] - 0s 1ms/step - loss: 0.2473\n",
            "Epoch 71/100\n",
            "426/426 [==============================] - 0s 1ms/step - loss: 0.2644\n",
            "Epoch 72/100\n",
            "426/426 [==============================] - 0s 1ms/step - loss: 0.2308\n",
            "Epoch 73/100\n",
            "426/426 [==============================] - 0s 1ms/step - loss: 0.2114\n",
            "Epoch 74/100\n",
            "426/426 [==============================] - 1s 1ms/step - loss: 0.2475\n",
            "Epoch 75/100\n",
            "426/426 [==============================] - 0s 1ms/step - loss: 0.2432\n",
            "Epoch 76/100\n",
            "426/426 [==============================] - 0s 1ms/step - loss: 0.2407\n",
            "Epoch 77/100\n",
            "426/426 [==============================] - 0s 1ms/step - loss: 0.2626\n",
            "Epoch 78/100\n",
            "426/426 [==============================] - 0s 1ms/step - loss: 0.2472\n",
            "Epoch 79/100\n",
            "426/426 [==============================] - 0s 1ms/step - loss: 0.2151\n",
            "Epoch 80/100\n",
            "426/426 [==============================] - 0s 1ms/step - loss: 0.2401\n",
            "Epoch 81/100\n",
            "426/426 [==============================] - 0s 1ms/step - loss: 0.2609\n",
            "Epoch 82/100\n",
            "426/426 [==============================] - 1s 1ms/step - loss: 0.2524\n",
            "Epoch 83/100\n",
            "426/426 [==============================] - 1s 1ms/step - loss: 0.2777\n",
            "Epoch 84/100\n",
            "426/426 [==============================] - 1s 1ms/step - loss: 0.2462\n",
            "Epoch 85/100\n",
            "426/426 [==============================] - 0s 1ms/step - loss: 0.2542\n",
            "Epoch 86/100\n",
            "426/426 [==============================] - 0s 1ms/step - loss: 0.2104\n",
            "Epoch 87/100\n",
            "426/426 [==============================] - 0s 1ms/step - loss: 0.2450\n",
            "Epoch 88/100\n",
            "426/426 [==============================] - 0s 1ms/step - loss: 0.2774\n",
            "Epoch 89/100\n",
            "426/426 [==============================] - 0s 1ms/step - loss: 0.2717\n",
            "Epoch 90/100\n",
            "426/426 [==============================] - 0s 1ms/step - loss: 0.2579\n",
            "Epoch 91/100\n",
            "426/426 [==============================] - 0s 1ms/step - loss: 0.2451\n",
            "Epoch 92/100\n",
            "426/426 [==============================] - 0s 1ms/step - loss: 0.2071\n",
            "Epoch 93/100\n",
            "426/426 [==============================] - 0s 1ms/step - loss: 0.2461\n",
            "Epoch 94/100\n",
            "426/426 [==============================] - 0s 1ms/step - loss: 0.3036\n",
            "Epoch 95/100\n",
            "426/426 [==============================] - 0s 1ms/step - loss: 0.2677\n",
            "Epoch 96/100\n",
            "426/426 [==============================] - 0s 1ms/step - loss: 0.2317\n",
            "Epoch 97/100\n",
            "426/426 [==============================] - 0s 1ms/step - loss: 0.2267\n",
            "Epoch 98/100\n",
            "426/426 [==============================] - 0s 1ms/step - loss: 0.2458\n",
            "Epoch 99/100\n",
            "426/426 [==============================] - 0s 1ms/step - loss: 0.2757\n",
            "Epoch 100/100\n",
            "426/426 [==============================] - 0s 1ms/step - loss: 0.2359\n"
          ],
          "name": "stdout"
        },
        {
          "output_type": "execute_result",
          "data": {
            "text/plain": [
              "<keras.callbacks.callbacks.History at 0x7f0c336dd6d8>"
            ]
          },
          "metadata": {
            "tags": []
          },
          "execution_count": 20
        }
      ]
    },
    {
      "cell_type": "markdown",
      "metadata": {
        "id": "be5ELeUEb5kS"
      },
      "source": [
        "To predict new values, the Neural Network uses predict. We are passing the test values for X (which the Neural Network hasn't previously seen) and it will give back a set of predictions."
      ]
    },
    {
      "cell_type": "code",
      "metadata": {
        "id": "JHR5FSOBWaOT"
      },
      "source": [
        "val_predictions3 = model.predict(val_X)"
      ],
      "execution_count": null,
      "outputs": []
    },
    {
      "cell_type": "code",
      "metadata": {
        "id": "eT8guptrOwSJ",
        "colab": {
          "base_uri": "https://localhost:8080/",
          "height": 286
        },
        "outputId": "1494421e-ecac-4717-c647-6d33edbca44e"
      },
      "source": [
        "model.summary()"
      ],
      "execution_count": null,
      "outputs": [
        {
          "output_type": "stream",
          "text": [
            "Model: \"sequential_1\"\n",
            "_________________________________________________________________\n",
            "Layer (type)                 Output Shape              Param #   \n",
            "=================================================================\n",
            "dense_1 (Dense)              (None, 16)                496       \n",
            "_________________________________________________________________\n",
            "dense_2 (Dense)              (None, 8)                 136       \n",
            "_________________________________________________________________\n",
            "dense_3 (Dense)              (None, 6)                 54        \n",
            "_________________________________________________________________\n",
            "dense_4 (Dense)              (None, 1)                 7         \n",
            "=================================================================\n",
            "Total params: 693\n",
            "Trainable params: 693\n",
            "Non-trainable params: 0\n",
            "_________________________________________________________________\n"
          ],
          "name": "stdout"
        }
      ]
    },
    {
      "cell_type": "code",
      "metadata": {
        "id": "ng2VWv5dPHXc",
        "colab": {
          "base_uri": "https://localhost:8080/",
          "height": 533
        },
        "outputId": "b34ae041-087a-4a07-cf4f-62feeaf23e92"
      },
      "source": [
        "from keras.utils.vis_utils import plot_model\n",
        "\n",
        "plot_model(model, show_shapes=True,show_layer_names=True)"
      ],
      "execution_count": null,
      "outputs": [
        {
          "output_type": "execute_result",
          "data": {
            "image/png": "[encoded data removed]",
            "text/plain": [
              "<IPython.core.display.Image object>"
            ]
          },
          "metadata": {
            "tags": []
          },
          "execution_count": 23
        }
      ]
    },
    {
      "cell_type": "markdown",
      "metadata": {
        "id": "hhcGlRCtQSEN"
      },
      "source": [
        "INTERPRETATION -\n",
        "1. First is the input layer with 30 inputs and 30 outputs.\n",
        "2. Second layer has 30 inputs and 16 outputs.\n",
        "3. Third has the 16 outputs of second layer as input and gives 8 outputs to layer 3.\n",
        "4. Fourth layer gives 6 outputs to the last layer which has one final output."
      ]
    },
    {
      "cell_type": "markdown",
      "metadata": {
        "id": "fw25tQxacFT_"
      },
      "source": [
        "We calculate the error to get an idea of accuracy"
      ]
    },
    {
      "cell_type": "code",
      "metadata": {
        "id": "X7N4Dy8rcDqm",
        "colab": {
          "base_uri": "https://localhost:8080/",
          "height": 34
        },
        "outputId": "ba4575fb-1b86-4c87-cd1c-71d407ecd64d"
      },
      "source": [
        "mae=mean_absolute_error(val_y,val_predictions3)\n",
        "print(mae)"
      ],
      "execution_count": null,
      "outputs": [
        {
          "output_type": "stream",
          "text": [
            "0.14566911125224896\n"
          ],
          "name": "stdout"
        }
      ]
    },
    {
      "cell_type": "markdown",
      "metadata": {
        "id": "VNGSVs3UaM6U"
      },
      "source": [
        "The error is very small(<1). This implies that we have successfully trained and correctly predicted."
      ]
    },
    {
      "cell_type": "markdown",
      "metadata": {
        "id": "WpTzsRPWLwij"
      },
      "source": [
        "## tSNE on text"
      ]
    },
    {
      "cell_type": "code",
      "metadata": {
        "id": "1_bob267Lva0",
        "colab": {
          "base_uri": "https://localhost:8080/",
          "height": 70
        },
        "outputId": "488be7f1-c257-45a8-f578-0bd9a5d88793"
      },
      "source": [
        "from sklearn.manifold import TSNE\n",
        "import seaborn as sns"
      ],
      "execution_count": null,
      "outputs": [
        {
          "output_type": "stream",
          "text": [
            "/usr/local/lib/python3.6/dist-packages/statsmodels/tools/_testing.py:19: FutureWarning: pandas.util.testing is deprecated. Use the functions in the public API at pandas.testing instead.\n",
            "  import pandas.util.testing as tm\n"
          ],
          "name": "stderr"
        }
      ]
    },
    {
      "cell_type": "code",
      "metadata": {
        "id": "YEbxMkgUN_d6"
      },
      "source": [
        "tsne = TSNE(n_components=2, random_state=0)\n",
        "#fitting tSNE model to our data\n",
        "#this is the same data we used above (bank note authentication)\n",
        "data_tsne = tsne.fit_transform(data_cancer.data)\n",
        "#converting into dataframe\n",
        "df_tsne=pd.DataFrame(data=data_tsne,columns=['X','Y'])\n",
        "df_tsne['label']=data_cancer.target"
      ],
      "execution_count": null,
      "outputs": []
    },
    {
      "cell_type": "code",
      "metadata": {
        "id": "YH-o3PYz4eYh",
        "colab": {
          "base_uri": "https://localhost:8080/",
          "height": 34
        },
        "outputId": "30b9dc41-bfc6-4da3-a16f-71e535389038"
      },
      "source": [
        "len(data_cancer['feature_names'])"
      ],
      "execution_count": null,
      "outputs": [
        {
          "output_type": "execute_result",
          "data": {
            "text/plain": [
              "30"
            ]
          },
          "metadata": {
            "tags": []
          },
          "execution_count": 27
        }
      ]
    },
    {
      "cell_type": "code",
      "metadata": {
        "id": "yXm9boW4OCPF",
        "colab": {
          "base_uri": "https://localhost:8080/",
          "height": 534
        },
        "outputId": "c57ee0a8-49c3-469a-fee9-1b403a07a66c"
      },
      "source": [
        "plt.figure(figsize=(6, 5))\n",
        "g = sns.lmplot(x='X',y='Y',data=df_tsne, fit_reg=False,hue='label', size=6)\n",
        "plt.title(\"tSNE plot\",size=25)"
      ],
      "execution_count": null,
      "outputs": [
        {
          "output_type": "stream",
          "text": [
            "/usr/local/lib/python3.6/dist-packages/seaborn/regression.py:573: UserWarning: The `size` parameter has been renamed to `height`; please update your code.\n",
            "  warnings.warn(msg, UserWarning)\n"
          ],
          "name": "stderr"
        },
        {
          "output_type": "execute_result",
          "data": {
            "text/plain": [
              "Text(0.5, 1.0, 'tSNE plot')"
            ]
          },
          "metadata": {
            "tags": []
          },
          "execution_count": 28
        },
        {
          "output_type": "display_data",
          "data": {
            "text/plain": [
              "<Figure size 432x360 with 0 Axes>"
            ]
          },
          "metadata": {
            "tags": []
          }
        },
        {
          "output_type": "display_data",
          "data": {
            "image/png": "[encoded data removed]",
            "text/plain": [
              "<Figure size 474.375x432 with 1 Axes>"
            ]
          },
          "metadata": {
            "tags": [],
            "needs_background": "light"
          }
        }
      ]
    },
    {
      "cell_type": "markdown",
      "metadata": {
        "id": "z2oxhmqlOLVT"
      },
      "source": [
        "INTERPRETATION -\n",
        "We have 2 labels 0 and 1 denoting benign and malignant breast cancer as 0 and 1 respectively.\n",
        "The data had 30 dimensions which was converted to 2D by using tSNE. \n",
        "\n",
        "Now, the above plot uses these 2 dimensions of tSNE dataframe. The 2 categories are colour coded using target name of the data. Thus, It is observed that points from different categories are separate and records of same categories are clustered together(except a few outliers where they overlap).\n"
      ]
    },
    {
      "cell_type": "markdown",
      "metadata": {
        "id": "L4k7ZkvtQxPx"
      },
      "source": [
        "## tSNE on image MNIST"
      ]
    },
    {
      "cell_type": "code",
      "metadata": {
        "id": "H7-WtJpHH-yR"
      },
      "source": [
        "from sklearn.datasets import load_digits\n",
        "import matplotlib.pyplot as plt "
      ],
      "execution_count": null,
      "outputs": []
    },
    {
      "cell_type": "markdown",
      "metadata": {
        "id": "FkTASMRicaDP"
      },
      "source": [
        "Steps followed:\n",
        "1. Loading data\n",
        "2. Taking the first 1000 values for convenience(time consuming process)\n",
        "3. Applying tSNE and fitting the model\n",
        "4. Converting the fit into dataframe for plotting\n",
        "5. Plotting the model"
      ]
    },
    {
      "cell_type": "code",
      "metadata": {
        "id": "Cmk9MgDxQwZg"
      },
      "source": [
        "df =load_digits()\n",
        "red_df=df.data[:1000]\n"
      ],
      "execution_count": null,
      "outputs": []
    },
    {
      "cell_type": "markdown",
      "metadata": {
        "id": "5FJDC2QrTo5_"
      },
      "source": [
        "###Parameters of tsne\n",
        "n_components - int, optional (default: 2)\n",
        "Dimension of the embedded space.\n",
        "\n",
        "random_state - int, RandomState instance, default=None\n",
        "Determines the random number generator. Pass an int for reproducible results across multiple function calls. \n",
        "\n",
        "perplexity - float, optional (default: 30)\n",
        "The perplexity is related to the number of nearest neighbors(expected density). \n",
        "Larger datasets usually require a larger perplexity. Consider selecting a value between 5 and 50. \n",
        "Different values can result in significanlty different results.\n",
        "\n",
        "learning_rate - float, optional (default: 200.0)\n",
        "The learning rate for t-SNE is usually in the range [10.0, 1000.0]. \n",
        "If the learning rate is too high, the data may look like a ‘ball’ with any point approximately equidistant from its nearest neighbours. \n",
        "If the learning rate is too low, most points may look compressed in a dense cloud with few outliers. \n",
        "\n",
        "n_iter - int, optional (default: 1000)\n",
        "Maximum number of iterations for the optimization. Should be at least 250."
      ]
    },
    {
      "cell_type": "code",
      "metadata": {
        "id": "vAPeK9bJS7Dj",
        "colab": {
          "base_uri": "https://localhost:8080/",
          "height": 252
        },
        "outputId": "89b63dfa-f9aa-46e6-c2fc-fd3719aeb862"
      },
      "source": [
        "model1 = TSNE(n_components=2, random_state=0, perplexity=30, learning_rate=200, n_iter=1000)\n",
        "model2 = TSNE(n_components=2, random_state=0, perplexity=50, learning_rate=200, n_iter=2000)\n",
        "tsne1 = model1.fit_transform(red_df)\n",
        "tsne2 = model2.fit_transform(red_df)\n",
        "print(tsne1)\n",
        "print(tsne2)\n",
        "# fit_transform(self, X[, y])\n",
        "# Fit X into an embedded space and return that transformed output."
      ],
      "execution_count": null,
      "outputs": [
        {
          "output_type": "stream",
          "text": [
            "[[ -0.4939472 -63.81038  ]\n",
            " [  0.8000618  20.015368 ]\n",
            " [ 12.861437   -2.2496257]\n",
            " ...\n",
            " [ -4.428643   -3.6826499]\n",
            " [ -9.084177   37.267696 ]\n",
            " [  2.0071123 -24.9061   ]]\n",
            "[[-43.80608    12.122153 ]\n",
            " [  6.769919  -10.83782  ]\n",
            " [ 15.309129   -0.3130291]\n",
            " ...\n",
            " [  3.3388908  10.282953 ]\n",
            " [  4.3390474 -25.617235 ]\n",
            " [  6.9019423  27.151646 ]]\n"
          ],
          "name": "stdout"
        }
      ]
    },
    {
      "cell_type": "code",
      "metadata": {
        "id": "sxZstQeaTBH4",
        "colab": {
          "base_uri": "https://localhost:8080/",
          "height": 402
        },
        "outputId": "649b4d6c-3508-4d13-8575-304dafe0ff33"
      },
      "source": [
        "df_tsne1 = pd.DataFrame(data=tsne1, columns=[\"X\", \"Y\"])\n",
        "df_tsne1['label']=df.target[:1000]\n",
        "df_tsne1"
      ],
      "execution_count": null,
      "outputs": [
        {
          "output_type": "execute_result",
          "data": {
            "text/html": [
              "<div>\n",
              "<style scoped>\n",
              "    .dataframe tbody tr th:only-of-type {\n",
              "        vertical-align: middle;\n",
              "    }\n",
              "\n",
              "    .dataframe tbody tr th {\n",
              "        vertical-align: top;\n",
              "    }\n",
              "\n",
              "    .dataframe thead th {\n",
              "        text-align: right;\n",
              "    }\n",
              "</style>\n",
              "<table border=\"1\" class=\"dataframe\">\n",
              "  <thead>\n",
              "    <tr style=\"text-align: right;\">\n",
              "      <th></th>\n",
              "      <th>X</th>\n",
              "      <th>Y</th>\n",
              "      <th>label</th>\n",
              "    </tr>\n",
              "  </thead>\n",
              "  <tbody>\n",
              "    <tr>\n",
              "      <th>0</th>\n",
              "      <td>-0.493947</td>\n",
              "      <td>-63.810379</td>\n",
              "      <td>0</td>\n",
              "    </tr>\n",
              "    <tr>\n",
              "      <th>1</th>\n",
              "      <td>0.800062</td>\n",
              "      <td>20.015368</td>\n",
              "      <td>1</td>\n",
              "    </tr>\n",
              "    <tr>\n",
              "      <th>2</th>\n",
              "      <td>12.861437</td>\n",
              "      <td>-2.249626</td>\n",
              "      <td>2</td>\n",
              "    </tr>\n",
              "    <tr>\n",
              "      <th>3</th>\n",
              "      <td>-0.509260</td>\n",
              "      <td>-25.503809</td>\n",
              "      <td>3</td>\n",
              "    </tr>\n",
              "    <tr>\n",
              "      <th>4</th>\n",
              "      <td>-5.970232</td>\n",
              "      <td>38.978191</td>\n",
              "      <td>4</td>\n",
              "    </tr>\n",
              "    <tr>\n",
              "      <th>...</th>\n",
              "      <td>...</td>\n",
              "      <td>...</td>\n",
              "      <td>...</td>\n",
              "    </tr>\n",
              "    <tr>\n",
              "      <th>995</th>\n",
              "      <td>-32.694592</td>\n",
              "      <td>18.546644</td>\n",
              "      <td>7</td>\n",
              "    </tr>\n",
              "    <tr>\n",
              "      <th>996</th>\n",
              "      <td>32.363453</td>\n",
              "      <td>28.823307</td>\n",
              "      <td>6</td>\n",
              "    </tr>\n",
              "    <tr>\n",
              "      <th>997</th>\n",
              "      <td>-4.428643</td>\n",
              "      <td>-3.682650</td>\n",
              "      <td>8</td>\n",
              "    </tr>\n",
              "    <tr>\n",
              "      <th>998</th>\n",
              "      <td>-9.084177</td>\n",
              "      <td>37.267696</td>\n",
              "      <td>4</td>\n",
              "    </tr>\n",
              "    <tr>\n",
              "      <th>999</th>\n",
              "      <td>2.007112</td>\n",
              "      <td>-24.906099</td>\n",
              "      <td>3</td>\n",
              "    </tr>\n",
              "  </tbody>\n",
              "</table>\n",
              "<p>1000 rows × 3 columns</p>\n",
              "</div>"
            ],
            "text/plain": [
              "             X          Y  label\n",
              "0    -0.493947 -63.810379      0\n",
              "1     0.800062  20.015368      1\n",
              "2    12.861437  -2.249626      2\n",
              "3    -0.509260 -25.503809      3\n",
              "4    -5.970232  38.978191      4\n",
              "..         ...        ...    ...\n",
              "995 -32.694592  18.546644      7\n",
              "996  32.363453  28.823307      6\n",
              "997  -4.428643  -3.682650      8\n",
              "998  -9.084177  37.267696      4\n",
              "999   2.007112 -24.906099      3\n",
              "\n",
              "[1000 rows x 3 columns]"
            ]
          },
          "metadata": {
            "tags": []
          },
          "execution_count": 32
        }
      ]
    },
    {
      "cell_type": "code",
      "metadata": {
        "id": "uZ9YBx26VfCr",
        "colab": {
          "base_uri": "https://localhost:8080/",
          "height": 402
        },
        "outputId": "9787c73e-45c3-4446-933a-7d414504c3f3"
      },
      "source": [
        "df_tsne2 = pd.DataFrame(data=tsne2, columns=[\"X\", \"Y\"])\n",
        "df_tsne2['label']=df.target[:1000]\n",
        "df_tsne2"
      ],
      "execution_count": null,
      "outputs": [
        {
          "output_type": "execute_result",
          "data": {
            "text/html": [
              "<div>\n",
              "<style scoped>\n",
              "    .dataframe tbody tr th:only-of-type {\n",
              "        vertical-align: middle;\n",
              "    }\n",
              "\n",
              "    .dataframe tbody tr th {\n",
              "        vertical-align: top;\n",
              "    }\n",
              "\n",
              "    .dataframe thead th {\n",
              "        text-align: right;\n",
              "    }\n",
              "</style>\n",
              "<table border=\"1\" class=\"dataframe\">\n",
              "  <thead>\n",
              "    <tr style=\"text-align: right;\">\n",
              "      <th></th>\n",
              "      <th>X</th>\n",
              "      <th>Y</th>\n",
              "      <th>label</th>\n",
              "    </tr>\n",
              "  </thead>\n",
              "  <tbody>\n",
              "    <tr>\n",
              "      <th>0</th>\n",
              "      <td>-43.806080</td>\n",
              "      <td>12.122153</td>\n",
              "      <td>0</td>\n",
              "    </tr>\n",
              "    <tr>\n",
              "      <th>1</th>\n",
              "      <td>6.769919</td>\n",
              "      <td>-10.837820</td>\n",
              "      <td>1</td>\n",
              "    </tr>\n",
              "    <tr>\n",
              "      <th>2</th>\n",
              "      <td>15.309129</td>\n",
              "      <td>-0.313029</td>\n",
              "      <td>2</td>\n",
              "    </tr>\n",
              "    <tr>\n",
              "      <th>3</th>\n",
              "      <td>5.538472</td>\n",
              "      <td>26.130787</td>\n",
              "      <td>3</td>\n",
              "    </tr>\n",
              "    <tr>\n",
              "      <th>4</th>\n",
              "      <td>1.435376</td>\n",
              "      <td>-25.093584</td>\n",
              "      <td>4</td>\n",
              "    </tr>\n",
              "    <tr>\n",
              "      <th>...</th>\n",
              "      <td>...</td>\n",
              "      <td>...</td>\n",
              "      <td>...</td>\n",
              "    </tr>\n",
              "    <tr>\n",
              "      <th>995</th>\n",
              "      <td>24.054022</td>\n",
              "      <td>-18.785721</td>\n",
              "      <td>7</td>\n",
              "    </tr>\n",
              "    <tr>\n",
              "      <th>996</th>\n",
              "      <td>-28.333189</td>\n",
              "      <td>-17.418228</td>\n",
              "      <td>6</td>\n",
              "    </tr>\n",
              "    <tr>\n",
              "      <th>997</th>\n",
              "      <td>3.338891</td>\n",
              "      <td>10.282953</td>\n",
              "      <td>8</td>\n",
              "    </tr>\n",
              "    <tr>\n",
              "      <th>998</th>\n",
              "      <td>4.339047</td>\n",
              "      <td>-25.617235</td>\n",
              "      <td>4</td>\n",
              "    </tr>\n",
              "    <tr>\n",
              "      <th>999</th>\n",
              "      <td>6.901942</td>\n",
              "      <td>27.151646</td>\n",
              "      <td>3</td>\n",
              "    </tr>\n",
              "  </tbody>\n",
              "</table>\n",
              "<p>1000 rows × 3 columns</p>\n",
              "</div>"
            ],
            "text/plain": [
              "             X          Y  label\n",
              "0   -43.806080  12.122153      0\n",
              "1     6.769919 -10.837820      1\n",
              "2    15.309129  -0.313029      2\n",
              "3     5.538472  26.130787      3\n",
              "4     1.435376 -25.093584      4\n",
              "..         ...        ...    ...\n",
              "995  24.054022 -18.785721      7\n",
              "996 -28.333189 -17.418228      6\n",
              "997   3.338891  10.282953      8\n",
              "998   4.339047 -25.617235      4\n",
              "999   6.901942  27.151646      3\n",
              "\n",
              "[1000 rows x 3 columns]"
            ]
          },
          "metadata": {
            "tags": []
          },
          "execution_count": 33
        }
      ]
    },
    {
      "cell_type": "code",
      "metadata": {
        "id": "-_XCnmE9TPYt",
        "colab": {
          "base_uri": "https://localhost:8080/",
          "height": 517
        },
        "outputId": "e89d1bef-5540-4f87-e455-1e3bd566d8ca"
      },
      "source": [
        "g = sns.lmplot(x='X',y='Y',data=df_tsne1, fit_reg=False, hue='label',size=6)\n",
        "plt.title(\"tSNE plot 1\",size=25)"
      ],
      "execution_count": null,
      "outputs": [
        {
          "output_type": "stream",
          "text": [
            "/usr/local/lib/python3.6/dist-packages/seaborn/regression.py:573: UserWarning: The `size` parameter has been renamed to `height`; please update your code.\n",
            "  warnings.warn(msg, UserWarning)\n"
          ],
          "name": "stderr"
        },
        {
          "output_type": "execute_result",
          "data": {
            "text/plain": [
              "Text(0.5, 1.0, 'tSNE plot 1')"
            ]
          },
          "metadata": {
            "tags": []
          },
          "execution_count": 34
        },
        {
          "output_type": "display_data",
          "data": {
            "image/png": "[encoded data removed]",
            "text/plain": [
              "<Figure size 474.375x432 with 1 Axes>"
            ]
          },
          "metadata": {
            "tags": [],
            "needs_background": "light"
          }
        }
      ]
    },
    {
      "cell_type": "markdown",
      "metadata": {
        "id": "pEWuscKb4ydO"
      },
      "source": [
        "The various colours denote the various digits like 0,1,2,3,4...etc.\n",
        "Points corresponding to same digit are clustered together.\n",
        "\n",
        "We have applied model 2 below with increased perplexity and number of iterations to see if the accuracy is increased."
      ]
    },
    {
      "cell_type": "code",
      "metadata": {
        "id": "C-UKyffmV7UU",
        "colab": {
          "base_uri": "https://localhost:8080/",
          "height": 517
        },
        "outputId": "938c911b-2824-4ced-c57d-c627717f0a27"
      },
      "source": [
        "g = sns.lmplot(x='X',y='Y',data=df_tsne2, fit_reg=False,hue='label', size=6)\n",
        "plt.title(\"tSNE plot 2\",size=25)"
      ],
      "execution_count": null,
      "outputs": [
        {
          "output_type": "stream",
          "text": [
            "/usr/local/lib/python3.6/dist-packages/seaborn/regression.py:573: UserWarning: The `size` parameter has been renamed to `height`; please update your code.\n",
            "  warnings.warn(msg, UserWarning)\n"
          ],
          "name": "stderr"
        },
        {
          "output_type": "execute_result",
          "data": {
            "text/plain": [
              "Text(0.5, 1.0, 'tSNE plot 2')"
            ]
          },
          "metadata": {
            "tags": []
          },
          "execution_count": 35
        },
        {
          "output_type": "display_data",
          "data": {
            "image/png": "[encoded data removed]",
            "text/plain": [
              "<Figure size 474.375x432 with 1 Axes>"
            ]
          },
          "metadata": {
            "tags": [],
            "needs_background": "light"
          }
        }
      ]
    },
    {
      "cell_type": "markdown",
      "metadata": {
        "id": "Ral0V1E0bwR8"
      },
      "source": [
        "We observe that the images corresponding to the different digits are separated into different clusters of points.There is very little overlapping because of some similarity. For example, all the blue(dark) points and pink points that represent 0 and 6 respectilvely are very separate whereas there are some outliers of 9 and 1."
      ]
    },
    {
      "cell_type": "markdown",
      "metadata": {
        "id": "0j-3l9I2BVPq"
      },
      "source": [
        "## ERROR METRICS"
      ]
    },
    {
      "cell_type": "markdown",
      "metadata": {
        "id": "EmpqMA_7cjEk"
      },
      "source": [
        "When evaluating a clustering algorithm we have 2 cases -\n",
        "1. when we know the actual class variables, we can use homogeneity,completeness and v_measure score\n",
        "2. If we don't know ground truth labels, we need to use silhouette score."
      ]
    },
    {
      "cell_type": "markdown",
      "metadata": {
        "id": "TkSTAE7_r2Ni"
      },
      "source": [
        "### SILHOUETTE SCORE\n",
        "Returns the mean of all Silhouette coefficients.\n",
        "\n",
        "\n",
        "Coefficient of a sample s= (b - a)/max(a,b) where,\n",
        "\n",
        "\n",
        "a is the average distance between s and all the other data points in the cluster to which s belongs\n",
        "\n",
        "b is the minimum average distance from s to all clusters to which it does not belong"
      ]
    },
    {
      "cell_type": "code",
      "metadata": {
        "id": "xXVYBpiy03LZ"
      },
      "source": [
        "from sklearn.cluster import KMeans\n",
        "from sklearn.metrics import silhouette_score, homogeneity_score, completeness_score, v_measure_score"
      ],
      "execution_count": null,
      "outputs": []
    },
    {
      "cell_type": "markdown",
      "metadata": {
        "id": "tHLp4HbNdPu5"
      },
      "source": [
        "CASE 1"
      ]
    },
    {
      "cell_type": "code",
      "metadata": {
        "id": "YBZKA25Dc6_z"
      },
      "source": [
        "df=data_cancer.data"
      ],
      "execution_count": null,
      "outputs": []
    },
    {
      "cell_type": "code",
      "metadata": {
        "id": "N0oT5v2P0A66"
      },
      "source": [
        "kmeans = KMeans(n_clusters=2, random_state=0).fit(df)"
      ],
      "execution_count": null,
      "outputs": []
    },
    {
      "cell_type": "code",
      "metadata": {
        "id": "yb4t3XW00xrf"
      },
      "source": [
        "#kmeans.labels_"
      ],
      "execution_count": null,
      "outputs": []
    },
    {
      "cell_type": "code",
      "metadata": {
        "id": "xDJQHG2lAp2C",
        "colab": {
          "base_uri": "https://localhost:8080/",
          "height": 34
        },
        "outputId": "32c88067-6707-4370-adb8-062eb7fc2717"
      },
      "source": [
        "h=homogeneity_score(data_cancer.target, kmeans.labels_)\n",
        "h"
      ],
      "execution_count": null,
      "outputs": [
        {
          "output_type": "execute_result",
          "data": {
            "text/plain": [
              "0.42229071246999117"
            ]
          },
          "metadata": {
            "tags": []
          },
          "execution_count": 40
        }
      ]
    },
    {
      "cell_type": "code",
      "metadata": {
        "id": "g2YNkCvsAtQO",
        "colab": {
          "base_uri": "https://localhost:8080/",
          "height": 34
        },
        "outputId": "51e98e63-df63-4a24-ea09-8f398e60d100"
      },
      "source": [
        "c=completeness_score(data_cancer.target, kmeans.labels_)\n",
        "c"
      ],
      "execution_count": null,
      "outputs": [
        {
          "output_type": "execute_result",
          "data": {
            "text/plain": [
              "0.5168089972809706"
            ]
          },
          "metadata": {
            "tags": []
          },
          "execution_count": 41
        }
      ]
    },
    {
      "cell_type": "code",
      "metadata": {
        "id": "BfkYSd7O32kb",
        "colab": {
          "base_uri": "https://localhost:8080/",
          "height": 50
        },
        "outputId": "00b1da38-9789-4195-fe49-07fd96ce6241"
      },
      "source": [
        "print(v_measure_score(data_cancer.target, kmeans.labels_) )\n",
        "#harmonic mean of completeness and homogeneity\n",
        "2/((1/h)+(1/c))"
      ],
      "execution_count": null,
      "outputs": [
        {
          "output_type": "stream",
          "text": [
            "0.46479332792160793\n"
          ],
          "name": "stdout"
        },
        {
          "output_type": "execute_result",
          "data": {
            "text/plain": [
              "0.46479332792160793"
            ]
          },
          "metadata": {
            "tags": []
          },
          "execution_count": 42
        }
      ]
    },
    {
      "cell_type": "code",
      "metadata": {
        "id": "vk3oLbjZdh3F",
        "colab": {
          "base_uri": "https://localhost:8080/",
          "height": 34
        },
        "outputId": "a3bbd3b5-d332-4615-cca5-d1cd44fc380b"
      },
      "source": [
        "silhouette_score(df, kmeans.labels_)"
      ],
      "execution_count": null,
      "outputs": [
        {
          "output_type": "execute_result",
          "data": {
            "text/plain": [
              "0.6972646156059464"
            ]
          },
          "metadata": {
            "tags": []
          },
          "execution_count": 43
        }
      ]
    },
    {
      "cell_type": "markdown",
      "metadata": {
        "id": "QyHoThBnm8nI"
      },
      "source": [
        "The above scores indicate that there is moderate clustering since the higher the score the better is the performance."
      ]
    },
    {
      "cell_type": "markdown",
      "metadata": {
        "id": "SdypwGwYeakl"
      },
      "source": [
        "CASE 2"
      ]
    },
    {
      "cell_type": "markdown",
      "metadata": {
        "id": "EnQ2PeXFeqVf"
      },
      "source": [
        "The number of clusters is taken as 2 previously. In unsupervised learning, we don't know the number of classes for clustering. So,Using the Silhouette score for different no. of clusters we can check the appropriate k to be used."
      ]
    },
    {
      "cell_type": "code",
      "metadata": {
        "id": "Ep_rMicH1zcI",
        "colab": {
          "base_uri": "https://localhost:8080/",
          "height": 430
        },
        "outputId": "79c13963-d8d5-45b8-9268-4ff2b9b0e87c"
      },
      "source": [
        "from yellowbrick.cluster import KElbowVisualizer\n",
        "model = KMeans(random_state=0)\n",
        "\n",
        "# Call the KElbowVisualizer with the silhouette metric \n",
        "viz = KElbowVisualizer(model, k=(2,6), metric='silhouette', timings=False)\n",
        "\n",
        "# Fit the data and visualize\n",
        "viz.fit(df)\n",
        "viz.poof() "
      ],
      "execution_count": null,
      "outputs": [
        {
          "output_type": "stream",
          "text": [
            "/usr/local/lib/python3.6/dist-packages/sklearn/utils/deprecation.py:144: FutureWarning: The sklearn.metrics.classification module is  deprecated in version 0.22 and will be removed in version 0.24. The corresponding classes / functions should instead be imported from sklearn.metrics. Anything that cannot be imported from sklearn.metrics is now part of the private API.\n",
            "  warnings.warn(message, FutureWarning)\n"
          ],
          "name": "stderr"
        },
        {
          "output_type": "display_data",
          "data": {
            "image/png": "[encoded data removed]",
            "text/plain": [
              "<Figure size 576x396 with 1 Axes>"
            ]
          },
          "metadata": {
            "tags": []
          }
        }
      ]
    },
    {
      "cell_type": "markdown",
      "metadata": {
        "id": "Tbrk-1GUe-2X"
      },
      "source": [
        "Clearly k should be 2 as it has the highest silhouette score."
      ]
    }
  ]
}